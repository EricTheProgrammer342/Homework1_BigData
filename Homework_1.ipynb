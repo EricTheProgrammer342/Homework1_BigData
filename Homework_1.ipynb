{
  "nbformat": 4,
  "nbformat_minor": 0,
  "metadata": {
    "colab": {
      "provenance": [],
      "toc_visible": true,
      "authorship_tag": "ABX9TyOPixk3vlh53Un1d6S4JNKh",
      "include_colab_link": true
    },
    "kernelspec": {
      "name": "python3",
      "display_name": "Python 3"
    },
    "language_info": {
      "name": "python"
    }
  },
  "cells": [
    {
      "cell_type": "markdown",
      "metadata": {
        "id": "view-in-github",
        "colab_type": "text"
      },
      "source": [
        "<a href=\"https://colab.research.google.com/github/EricTheProgrammer342/myspringdemo/blob/main/Homework_1.ipynb\" target=\"_parent\"><img src=\"https://colab.research.google.com/assets/colab-badge.svg\" alt=\"Open In Colab\"/></a>"
      ]
    },
    {
      "cell_type": "code",
      "source": [
        "from os import replace\n",
        "import math;\n",
        "\n",
        "\n",
        "PythonString = 'Python'\n",
        "\n",
        "print(PythonString.replace('on', '  '))\n",
        "\n",
        "PythonString = PythonString.replace('on', '  ')\n",
        "\n",
        "llist = list(PythonString)\n",
        "\n",
        "llist.reverse()\n",
        "\n",
        "print(llist)\n",
        "\n",
        "int1 = int(input(\"Number 1 please: \"))\n",
        "int2 = int(input(\"Number 2 please: \"))\n",
        "\n",
        "print(str(int1) + \" + \" + str(int2) + \" = \" + str(int1 + int2))\n",
        "print(str(int1) + \" - \" + str(int2) + \" = \" + str(int1 - int2))\n",
        "print(str(int1) + \" * \" + str(int2) + \" = \" + str(int1 * int2))\n",
        "print(str(int1) + \" / \" + str(int2) + \" = \" + str(int1 / int2))"
      ],
      "metadata": {
        "colab": {
          "base_uri": "https://localhost:8080/"
        },
        "id": "d-lFUpVQqrcr",
        "outputId": "ddf4e6d2-7357-45d3-d9fd-4b14187b677f"
      },
      "execution_count": null,
      "outputs": [
        {
          "output_type": "stream",
          "name": "stdout",
          "text": [
            "Pyth  \n",
            "[' ', ' ', 'h', 't', 'y', 'P']\n",
            "Number 1 please: 3\n",
            "Number 2 please: 3\n",
            "3 + 3 = 6\n",
            "3 - 3 = 0\n",
            "3 * 3 = 9\n",
            "3 / 3 = 1.0\n"
          ]
        }
      ]
    },
    {
      "cell_type": "code",
      "source": [
        "PythonString = \"I love eating Python\"\n",
        "PythonString = PythonString = PythonString.replace('Python', 'Pythons')\n",
        "\n",
        "print(PythonString)"
      ],
      "metadata": {
        "colab": {
          "base_uri": "https://localhost:8080/"
        },
        "id": "w46f9yLivhsv",
        "outputId": "0c9b0ae4-7337-404b-a2b7-b2a95a32d2a0"
      },
      "execution_count": null,
      "outputs": [
        {
          "output_type": "stream",
          "name": "stdout",
          "text": [
            "I love eating Pythons\n"
          ]
        }
      ]
    },
    {
      "cell_type": "code",
      "source": [
        "Grade = int(input(\"Enter your grade percentage\"))\n",
        "\n",
        "if Grade > 89:\n",
        "    print(\"You received an A Grade\")\n",
        "elif Grade > 79 and Grade <= 90:\n",
        "    print(\"You received a B Grade\")\n",
        "elif Grade > 69 and Grade <= 80:\n",
        "    print(\"You received a C Grade\")\n",
        "elif Grade > 59 and Grade <= 70:\n",
        "    print(\"You received a D Grade\")\n",
        "else:\n",
        "    print(\"You failed\")"
      ],
      "metadata": {
        "colab": {
          "base_uri": "https://localhost:8080/"
        },
        "id": "eXh5u30Lyd7n",
        "outputId": "3a316194-4eca-429c-865a-380ed09dc830"
      },
      "execution_count": null,
      "outputs": [
        {
          "output_type": "stream",
          "name": "stdout",
          "text": [
            "Enter your grade percentage65\n",
            "You received a D Grade\n"
          ]
        }
      ]
    },
    {
      "cell_type": "code",
      "source": [
        "x = [23, 'Python', 23.98]\n",
        "\n",
        "print(x)\n",
        "\n",
        "typeof = [type(item) for item in x]\n",
        "\n",
        "print(typeof)"
      ],
      "metadata": {
        "colab": {
          "base_uri": "https://localhost:8080/"
        },
        "id": "vCPJKDpaJs6H",
        "outputId": "19ca4bde-983a-4311-ddd6-d1f2cf9ea37c"
      },
      "execution_count": null,
      "outputs": [
        {
          "output_type": "stream",
          "name": "stdout",
          "text": [
            "[23, 'Python', 23.98]\n",
            "[<class 'int'>, <class 'str'>, <class 'float'>]\n"
          ]
        }
      ]
    },
    {
      "cell_type": "code",
      "source": [
        "\n",
        "ITsites = {'Facebook', 'Google', 'Microsoft', 'Apple', 'IBM', 'Oracle', 'Amazon'}\n",
        "A = {19, 22, 24, 20, 25, 26}\n",
        "B = {19, 22, 20, 25, 26, 24, 28, 27}\n",
        "age = [22, 19, 24, 25, 26, 24, 25, 24]\n",
        "\n",
        "print(\"Amount of Websites:\", len(ITsites))\n",
        "ITsites.add('Twitter')\n",
        "print(\"Websites with 'Twitter':\", ITsites)\n",
        "ITsites.update(['Snapchat', 'Spotify', 'Netflix'])\n",
        "print(\"Websites with other companies:\", ITsites)\n",
        "ITsites.remove('Oracle')\n",
        "print(\"Websites without 'Oracle':\", ITsites)\n",
        "\n",
        "AunionB = A.union(B)\n",
        "print(\"A union B:\", AunionB)\n",
        "\n",
        "AintersectionB = A.intersection(B)\n",
        "print(\"A intersection B:\", AintersectionB)\n",
        "\n",
        "issubset = A.issubset(B)\n",
        "print(\"Is it a subset?\", issubset)\n",
        "\n",
        "aredisjoint = A.isdisjoint(B)\n",
        "print(\"Are they disjointed?\", aredisjoint)\n",
        "\n",
        "AunionBPart2 = A.union(B)\n",
        "BunionA = B.union(A)\n",
        "print(\"A union B:\", AunionBPart2)\n",
        "print(\"B union A:\", BunionA)\n",
        "\n",
        "symmetric_difference = A.symmetric_difference(B)\n",
        "print(\"Symmetric difference between A and B:\", symmetric_difference)\n",
        "\n",
        "del ITsites\n",
        "del A\n",
        "del B\n",
        "\n",
        "ageset = set(age)\n",
        "print(\"Age list amount \", len(age))\n",
        "print(\"Age set amount \", len(ageset))"
      ],
      "metadata": {
        "colab": {
          "base_uri": "https://localhost:8080/"
        },
        "id": "AEWtTKzFJ7VS",
        "outputId": "95733f55-6918-4f71-c6dd-9fa51716b057"
      },
      "execution_count": null,
      "outputs": [
        {
          "output_type": "stream",
          "name": "stdout",
          "text": [
            "Amount of Websites: 7\n",
            "Websites with 'Twitter': {'Oracle', 'IBM', 'Google', 'Microsoft', 'Twitter', 'Apple', 'Amazon', 'Facebook'}\n",
            "Websites with other companies: {'Google', 'Facebook', 'Spotify', 'Oracle', 'IBM', 'Twitter', 'Netflix', 'Microsoft', 'Amazon', 'Snapchat', 'Apple'}\n",
            "Websites without 'Oracle': {'Google', 'Facebook', 'Spotify', 'IBM', 'Twitter', 'Netflix', 'Microsoft', 'Amazon', 'Snapchat', 'Apple'}\n",
            "A union B: {19, 20, 22, 24, 25, 26, 27, 28}\n",
            "A intersection B: {19, 20, 22, 24, 25, 26}\n",
            "Is it a subset? True\n",
            "Are they disjointed? False\n",
            "A union B: {19, 20, 22, 24, 25, 26, 27, 28}\n",
            "B union A: {19, 20, 22, 24, 25, 26, 27, 28}\n",
            "Symmetric difference between A and B: {27, 28}\n",
            "Age list amount  8\n",
            "Age set amount  5\n"
          ]
        }
      ]
    },
    {
      "cell_type": "markdown",
      "source": [],
      "metadata": {
        "id": "1v9sYLOBq-iO"
      }
    }
  ]
}