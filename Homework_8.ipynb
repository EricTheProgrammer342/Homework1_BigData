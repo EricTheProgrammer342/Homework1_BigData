{
  "nbformat": 4,
  "nbformat_minor": 0,
  "metadata": {
    "colab": {
      "provenance": [],
      "authorship_tag": "ABX9TyMrMLKnqmkGPOnkniZodDnk",
      "include_colab_link": true
    },
    "kernelspec": {
      "name": "python3",
      "display_name": "Python 3"
    },
    "language_info": {
      "name": "python"
    }
  },
  "cells": [
    {
      "cell_type": "markdown",
      "metadata": {
        "id": "view-in-github",
        "colab_type": "text"
      },
      "source": [
        "<a href=\"https://colab.research.google.com/github/EricTheProgrammer342/Homework1_BigData/blob/main/Homework_8.ipynb\" target=\"_parent\"><img src=\"https://colab.research.google.com/assets/colab-badge.svg\" alt=\"Open In Colab\"/></a>"
      ]
    },
    {
      "cell_type": "code",
      "execution_count": 18,
      "metadata": {
        "colab": {
          "base_uri": "https://localhost:8080/"
        },
        "id": "YJx3YReTXg6w",
        "outputId": "9b7f6a6d-4d9d-41a2-b2f3-e48273625337"
      },
      "outputs": [
        {
          "output_type": "stream",
          "name": "stdout",
          "text": [
            "[1, 2, 3, 4, 5, 6, 7, 8, 9, 10, 11, 12, 13, 14, 15]\n",
            "[1]\n",
            "1\n",
            "[2, 4, 6, 8, 10, 12, 14]\n",
            "[1, 4, 9, 16, 25, 36, 49, 64, 81, 100, 121, 144, 169, 196, 225]\n",
            "120\n",
            "[1, 3, 5, 7, 9, 2, 4, 6, 8, 10]\n",
            "[(1, 'a'), (1, 'b'), (1, 'c'), (2, 'a'), (3, 'a'), (2, 'b'), (2, 'c'), (3, 'b'), (3, 'c')]\n",
            "[('a', 1), ('b', 2), ('c', 3), ('d', 4)]\n",
            "[(('a', 1), 1), (('b', 2), 1), (('d', 4), 1), (('c', 3), 1)]\n",
            "[('a', 1), ('b', 2), ('c', 3), ('d', 4)]\n",
            "[1, 2, 3, 4, 5]\n",
            "+---------------+------+\n",
            "|           Name|   Age|\n",
            "+---------------+------+\n",
            "|           Eric|    24|\n",
            "|         Walter|    17|\n",
            "|Annontishezchsa|100567|\n",
            "+---------------+------+\n",
            "\n",
            "[1, 4, 9, 16, 25]\n"
          ]
        }
      ],
      "source": [
        "import pandas as pd\n",
        "import numpy as np\n",
        "import tensorflow as tf\n",
        "from pyspark.sql import SparkSession\n",
        "\n",
        "spark = SparkSession \\\n",
        "    .builder \\\n",
        "    .appName(\"SparkByExamples.com\") \\\n",
        "    .getOrCreate()\n",
        "\n",
        "\n",
        "#1 2 and 3\n",
        "rdd = spark.sparkContext.parallelize([1,2,3,4,5,6,7,8,9,10,11,12,13,14,15])\n",
        "print(rdd.collect())\n",
        "print(rdd.take(1))\n",
        "#print(rdd.count())\n",
        "\n",
        "#4\n",
        "rddeven = rdd.first()\n",
        "print(rddeven)\n",
        "even_rdd = rdd.filter(lambda x: x % 2 == 0)\n",
        "evenlist = even_rdd.collect()\n",
        "print(evenlist)\n",
        "\n",
        "#5\n",
        "Maap = rdd.map(lambda x: x ** 2)\n",
        "map = Maap.collect()\n",
        "print(map)\n",
        "\n",
        "\n",
        "#6\n",
        "print(rdd.reduce(lambda a,b: a+b))\n",
        "#7\n",
        "#rdd.saveAsTextFile(\"output_directory\")\n",
        "#I think it works???\n",
        "\n",
        "#8\n",
        "rddlist1 = spark.sparkContext.parallelize([1, 3, 5, 7, 9])\n",
        "rddlist2 = spark.sparkContext.parallelize([2, 4, 6, 8, 10])\n",
        "rddlist3 = rddlist1.union(rddlist2)\n",
        "fulllist = rddlist3.collect()\n",
        "print(fulllist)\n",
        "\n",
        "#9\n",
        "rddlistx = spark.sparkContext.parallelize([1, 2, 3])\n",
        "rddlisty = spark.sparkContext.parallelize(['a', 'b', 'c'])\n",
        "cartesianrdd = rddlistx.cartesian(rddlisty)\n",
        "cartesianlist = cartesianrdd.collect()\n",
        "print(cartesianlist)\n",
        "\n",
        "#10\n",
        "Dictionary = {'a': 1, 'b': 2, 'c': 3, 'd': 4}\n",
        "Dictionarylist = list(Dictionary.items())\n",
        "rdd = spark.sparkContext.parallelize(Dictionarylist)\n",
        "print(rdd.collect())\n",
        "\n",
        "#11\n",
        "rddqqq = spark.sparkContext.parallelize([1, 2, 2, 3, 3, 3, 4, 4, 4, 4])\n",
        "keyrdd = rdd.map(lambda x: (x, 1))\n",
        "countrdd = keyrdd.reduceByKey(lambda a, b: a + b)\n",
        "counts = countrdd.collect()\n",
        "print(counts)\n",
        "\n",
        "#12\n",
        "rddoutofdocument = spark.sparkContext.textFile(\"path/to/directory/*.txt\")\n",
        "datadoc = rdd.collect()\n",
        "print(datadoc)\n",
        "\n",
        "#13\n",
        "rddnew = spark.sparkContext.parallelize([1,2,3,4,5,6,7,8,9,10,11,12,13,14,15])\n",
        "inspectedlines = rddnew.take(5)\n",
        "print(inspectedlines)\n",
        "#14\n",
        "Abstract = SparkSession.builder.appName(\"PlaceholderText\").getOrCreate()\n",
        "data14 = [(\"Eric\", 24), (\"Walter\", 17), (\"Annontishezchsa\", 100567)]\n",
        "columns = [\"Name\", \"Age\"]\n",
        "databases = Abstract.createDataFrame(data14, schema=columns)\n",
        "databases.show()\n",
        "\n",
        "#15\n",
        "number15 = SparkSession.builder.appName(\"More Placeholder Text\").getOrCreate()\n",
        "rdd15 = number15.sparkContext.parallelize([1, 2, 3, 4, 5])\n",
        "rddanswer = rdd15.map(lambda x: x * x)\n",
        "print(rddanswer.collect())\n"
      ]
    }
  ]
}