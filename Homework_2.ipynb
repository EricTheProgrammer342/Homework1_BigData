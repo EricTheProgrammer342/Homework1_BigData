{
  "nbformat": 4,
  "nbformat_minor": 0,
  "metadata": {
    "colab": {
      "provenance": []
    },
    "kernelspec": {
      "name": "python3",
      "display_name": "Python 3"
    },
    "language_info": {
      "name": "python"
    }
  },
  "cells": [
    {
      "cell_type": "code",
      "execution_count": 4,
      "metadata": {
        "id": "4l_cbTQ0qnAJ",
        "colab": {
          "base_uri": "https://localhost:8080/"
        },
        "outputId": "cadc88c8-a3c1-472f-f54a-3afe29075256"
      },
      "outputs": [
        {
          "output_type": "stream",
          "name": "stdout",
          "text": [
            "instance count: 2, Class count: 3\n",
            "instance count: 1, Class count: 3\n"
          ]
        }
      ],
      "source": [
        "class Counter:\n",
        "    count = 0\n",
        "\n",
        "    def __init__(self):\n",
        "        self._count = 0\n",
        "    def increment(self):\n",
        "        self._count += 1\n",
        "        Counter.count += 1\n",
        "    def get_counts(self):\n",
        "        return f\"instance count: {self._count}, Class count: {Counter.count}\"\n",
        "\n",
        "\n",
        "a = Counter()\n",
        "b = Counter()\n",
        "\n",
        "a.increment()\n",
        "a.increment()\n",
        "b.increment()\n",
        "\n",
        "print(a.get_counts())\n",
        "print(b.get_counts())"
      ]
    },
    {
      "cell_type": "markdown",
      "source": [
        " 1: The main difference between the Counter count and the self count is that the counter is being called in the main class where as the self count has its own definition seperately. This can have multiple implications in the rest of the code depending on the code.\n",
        "\n",
        " 2: You recieve both the instance count and the class count. For the A.get_counts you receive instance count: 2, Class count: 3\n",
        "and for B.get_counts you recieve instance count: 1, Class count: 3\n",
        "\n",
        "3: It affects both in the sense of this code as it allows the program to add +1 to each of the variables however, given that the variables are of different nature. They are counted differently resulting in an instance count difference of 1 and 2 though the class count has stayed the same."
      ],
      "metadata": {
        "id": "wj-yeFN-s1TX"
      }
    },
    {
      "cell_type": "code",
      "source": [
        "def sum_all(*args):\n",
        "  return sum(args)\n",
        "\n",
        "\n",
        "print(\"Sum of 1, 2, 3 is:\", sum_all(1, 2, 3))\n",
        "print(\"Sum of 4, 5, 6, 7 is:\", sum_all(4, 5, 6, 7))"
      ],
      "metadata": {
        "colab": {
          "base_uri": "https://localhost:8080/"
        },
        "id": "4JJukVSlu9WO",
        "outputId": "ef18f448-fb9d-45c9-b9ce-764c87380916"
      },
      "execution_count": null,
      "outputs": [
        {
          "output_type": "stream",
          "name": "stdout",
          "text": [
            "Sum of 1, 2, 3 is: 6\n",
            "Sum of 4, 5, 6, 7 is: 22\n"
          ]
        }
      ]
    },
    {
      "cell_type": "code",
      "source": [
        "students = input(\"Enter a list of names separated by spaces: \").split()\n",
        "\n",
        "sortedstudents = sorted(students)\n",
        "\n",
        "print (sortedstudents[0])"
      ],
      "metadata": {
        "colab": {
          "base_uri": "https://localhost:8080/"
        },
        "id": "rPxPaFuKxtcn",
        "outputId": "0a79e808-350e-4ea8-fffa-4b53bbe08f60"
      },
      "execution_count": null,
      "outputs": [
        {
          "output_type": "stream",
          "name": "stdout",
          "text": [
            "Enter a list of names separated by spaces: edwarto agorax saren thibedeaux\n",
            "agorax\n"
          ]
        }
      ]
    },
    {
      "cell_type": "code",
      "source": [
        "class Employee:\n",
        "    employee_count = 0\n",
        "    total_salary = 0\n",
        "\n",
        "    def __init__(self, fullname, familyamount, salaryamount, department):\n",
        "        self.fullname = fullname\n",
        "        self.familyamount = familyamount\n",
        "        self.salaryamount = salaryamount\n",
        "        self.department = department\n",
        "        Employee.employee_count += 1\n",
        "        Employee.total_salary += salaryamount\n",
        "\n",
        "    @classmethod\n",
        "    def average_salary(cls):\n",
        "        if cls.employee_count == 0:\n",
        "            return 0\n",
        "        return cls.total_salary / cls.employee_count\n",
        "\n",
        "    def __str__(self):\n",
        "        return f'Employee: {self.fullname}, Family: {self.familyamount}, Salary: {self.salaryamount}, Department: {self.department}'\n",
        "\n",
        "class FulltimeEmployee(Employee):\n",
        "    def __init__(self, fullname, familyamount, salaryamount, department):\n",
        "        super().__init__(fullname, familyamount, salaryamount, department)\n",
        "\n",
        "parttimeemployee1 = Employee(\"Tom Dryphus\", \"Dryphus\", 50000000, \"Research and Development\")\n",
        "parttimeemployee2 = Employee(\"Natalie Parker\", \"Parker\", 6000000, \"Security\")\n",
        "fulltimeemployee1 = FulltimeEmployee(\"Atticus Francais\", \"Francais\", 7000000, \"Legal\")\n",
        "fulltimeemployee2 = FulltimeEmployee(\"Milton Millard\", \"Millard\", 8000000, \"Chairman\")\n",
        "\n",
        "print(parttimeemployee1)\n",
        "print(parttimeemployee2)\n",
        "print(fulltimeemployee1)\n",
        "print(fulltimeemployee2)\n",
        "\n",
        "print(\"Mean Salary:\", Employee.average_salary())"
      ],
      "metadata": {
        "id": "8xnQ7uMkz2Ue",
        "colab": {
          "base_uri": "https://localhost:8080/"
        },
        "outputId": "d528671e-5e22-4280-c30f-77245a5644ed"
      },
      "execution_count": 3,
      "outputs": [
        {
          "output_type": "stream",
          "name": "stdout",
          "text": [
            "Employee: Tom Dryphus, Family: Dryphus, Salary: 50000000, Department: Research and Development\n",
            "Employee: Natalie Parker, Family: Parker, Salary: 6000000, Department: Security\n",
            "Employee: Atticus Francais, Family: Francais, Salary: 7000000, Department: Legal\n",
            "Employee: Milton Millard, Family: Millard, Salary: 8000000, Department: Chairman\n",
            "Mean Salary: 17750000.0\n"
          ]
        }
      ]
    }
  ]
}